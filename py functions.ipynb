{
 "cells": [
  {
   "cell_type": "code",
   "execution_count": 1,
   "id": "961df64c",
   "metadata": {},
   "outputs": [],
   "source": [
    "#lambda fuctions\n",
    "f=lambda x,y:x*y"
   ]
  },
  {
   "cell_type": "code",
   "execution_count": 2,
   "id": "febe45a4",
   "metadata": {},
   "outputs": [
    {
     "data": {
      "text/plain": [
       "6"
      ]
     },
     "execution_count": 2,
     "metadata": {},
     "output_type": "execute_result"
    }
   ],
   "source": [
    "f(3,2)"
   ]
  },
  {
   "cell_type": "code",
   "execution_count": 3,
   "id": "0275e6f5",
   "metadata": {},
   "outputs": [],
   "source": [
    "l=lambda s:len(s)"
   ]
  },
  {
   "cell_type": "code",
   "execution_count": 4,
   "id": "20efce3e",
   "metadata": {},
   "outputs": [
    {
     "data": {
      "text/plain": [
       "6"
      ]
     },
     "execution_count": 4,
     "metadata": {},
     "output_type": "execute_result"
    }
   ],
   "source": [
    "l(\"amitha\")"
   ]
  },
  {
   "cell_type": "code",
   "execution_count": 5,
   "id": "2df13608",
   "metadata": {},
   "outputs": [],
   "source": [
    "n=[1,2,3,4,5]\n",
    "n1=list(map(lambda x:x**2,n))"
   ]
  },
  {
   "cell_type": "code",
   "execution_count": 6,
   "id": "0eca7037",
   "metadata": {},
   "outputs": [
    {
     "data": {
      "text/plain": [
       "[1, 4, 9, 16, 25]"
      ]
     },
     "execution_count": 6,
     "metadata": {},
     "output_type": "execute_result"
    }
   ],
   "source": [
    "n1"
   ]
  },
  {
   "cell_type": "code",
   "execution_count": 7,
   "id": "5152ccc2",
   "metadata": {},
   "outputs": [],
   "source": [
    "n2=list(filter(lambda x:x%2==0,n))"
   ]
  },
  {
   "cell_type": "code",
   "execution_count": 8,
   "id": "af5cf7f4",
   "metadata": {},
   "outputs": [
    {
     "data": {
      "text/plain": [
       "[2, 4]"
      ]
     },
     "execution_count": 8,
     "metadata": {},
     "output_type": "execute_result"
    }
   ],
   "source": [
    "n2"
   ]
  },
  {
   "cell_type": "code",
   "execution_count": 11,
   "id": "8da2c83f",
   "metadata": {},
   "outputs": [
    {
     "data": {
      "text/plain": [
       "['date', 'apple', 'banana', 'cherry', 'elderberry']"
      ]
     },
     "execution_count": 11,
     "metadata": {},
     "output_type": "execute_result"
    }
   ],
   "source": [
    "fruits = ['apple', 'banana', 'cherry', 'date', 'elderberry']\n",
    "sorted(fruits,key=lambda x:len(x))"
   ]
  },
  {
   "cell_type": "code",
   "execution_count": 22,
   "id": "76d54797",
   "metadata": {},
   "outputs": [
    {
     "data": {
      "text/plain": [
       "[{'name': 'Charlie', 'age': 22, 'occupation': 'Intern'},\n",
       " {'name': 'Alice', 'age': 25, 'occupation': 'Engineer'},\n",
       " {'name': 'Dave', 'age': 27, 'occupation': 'Designer'},\n",
       " {'name': 'Bob', 'age': 30, 'occupation': 'Manager'}]"
      ]
     },
     "execution_count": 22,
     "metadata": {},
     "output_type": "execute_result"
    }
   ],
   "source": [
    "people = [\n",
    "    {'name': 'Alice', 'age': 25, 'occupation': 'Engineer'},\n",
    "    {'name': 'Bob', 'age': 30, 'occupation': 'Manager'},\n",
    "    {'name': 'Charlie', 'age': 22, 'occupation': 'Intern'},\n",
    "    {'name': 'Dave', 'age': 27, 'occupation': 'Designer'},\n",
    "]\n",
    "sorted(people,key=lambda x:x['age'])"
   ]
  },
  {
   "cell_type": "code",
   "execution_count": 31,
   "id": "f5e4ca57",
   "metadata": {},
   "outputs": [
    {
     "name": "stdout",
     "output_type": "stream",
     "text": [
      "a ['apple']\n",
      "b ['banana']\n",
      "c ['cherry']\n",
      "d ['date']\n",
      "e ['elderberry']\n",
      "f ['fig']\n"
     ]
    }
   ],
   "source": [
    "from itertools import groupby\n",
    "words = ['apple', 'banana', 'cherry', 'date', 'elderberry', 'fig']\n",
    "groups = groupby(sorted(words), key=lambda x: x[0])\n",
    "for key, group in groups:\n",
    "    print(key, list(group))"
   ]
  },
  {
   "cell_type": "code",
   "execution_count": 35,
   "id": "ed1718f9",
   "metadata": {},
   "outputs": [],
   "source": [
    "f=lambda n:\"even\" if n%2==0 else \"odd\""
   ]
  },
  {
   "cell_type": "code",
   "execution_count": 37,
   "id": "cbdf478f",
   "metadata": {},
   "outputs": [
    {
     "data": {
      "text/plain": [
       "'odd'"
      ]
     },
     "execution_count": 37,
     "metadata": {},
     "output_type": "execute_result"
    }
   ],
   "source": [
    "f(5)"
   ]
  },
  {
   "cell_type": "code",
   "execution_count": 43,
   "id": "bfe1a7c4",
   "metadata": {},
   "outputs": [],
   "source": [
    "f=lambda x:\"p\" if x>0 else \"n\" if x<0 else \"zero\""
   ]
  },
  {
   "cell_type": "code",
   "execution_count": 46,
   "id": "32ca37fd",
   "metadata": {},
   "outputs": [
    {
     "data": {
      "text/plain": [
       "'zero'"
      ]
     },
     "execution_count": 46,
     "metadata": {},
     "output_type": "execute_result"
    }
   ],
   "source": [
    "f(0)"
   ]
  },
  {
   "cell_type": "code",
   "execution_count": 47,
   "id": "864d76a8",
   "metadata": {},
   "outputs": [],
   "source": [
    "t=lambda x:\"hot\" if x>30 else \"moderate\" if x>=20 and x<=30 else \"cold\""
   ]
  },
  {
   "cell_type": "code",
   "execution_count": 51,
   "id": "0a3f544a",
   "metadata": {},
   "outputs": [
    {
     "data": {
      "text/plain": [
       "'cold'"
      ]
     },
     "execution_count": 51,
     "metadata": {},
     "output_type": "execute_result"
    }
   ],
   "source": [
    "t(15)"
   ]
  },
  {
   "cell_type": "code",
   "execution_count": 56,
   "id": "88e6e6aa",
   "metadata": {},
   "outputs": [],
   "source": [
    "s=\"amitha\"\n",
    "f=lambda s:s.upper()"
   ]
  },
  {
   "cell_type": "code",
   "execution_count": 57,
   "id": "23e549a1",
   "metadata": {},
   "outputs": [
    {
     "data": {
      "text/plain": [
       "'AMITHA'"
      ]
     },
     "execution_count": 57,
     "metadata": {},
     "output_type": "execute_result"
    }
   ],
   "source": [
    "f(s)"
   ]
  },
  {
   "cell_type": "code",
   "execution_count": 58,
   "id": "4fec2871",
   "metadata": {},
   "outputs": [],
   "source": [
    "f1=lambda x:x**2\n",
    "f2=lambda x:x+10"
   ]
  },
  {
   "cell_type": "code",
   "execution_count": 60,
   "id": "823b78b3",
   "metadata": {},
   "outputs": [
    {
     "data": {
      "text/plain": [
       "35"
      ]
     },
     "execution_count": 60,
     "metadata": {},
     "output_type": "execute_result"
    }
   ],
   "source": [
    "f2(f1(5))"
   ]
  },
  {
   "cell_type": "code",
   "execution_count": 61,
   "id": "a1ee56ff",
   "metadata": {},
   "outputs": [],
   "source": [
    "#list comprehension"
   ]
  },
  {
   "cell_type": "code",
   "execution_count": 62,
   "id": "b23eb29b",
   "metadata": {},
   "outputs": [],
   "source": [
    "n=[1,2,3,4,5]\n",
    "sq=[i**2 for i in n]"
   ]
  },
  {
   "cell_type": "code",
   "execution_count": 63,
   "id": "4056f3a3",
   "metadata": {},
   "outputs": [
    {
     "data": {
      "text/plain": [
       "[1, 4, 9, 16, 25]"
      ]
     },
     "execution_count": 63,
     "metadata": {},
     "output_type": "execute_result"
    }
   ],
   "source": [
    "sq"
   ]
  },
  {
   "cell_type": "code",
   "execution_count": 64,
   "id": "5b8d1c56",
   "metadata": {},
   "outputs": [],
   "source": [
    "even=[i for i in n if i%2==0]"
   ]
  },
  {
   "cell_type": "code",
   "execution_count": 65,
   "id": "07c62f6b",
   "metadata": {},
   "outputs": [
    {
     "data": {
      "text/plain": [
       "[2, 4]"
      ]
     },
     "execution_count": 65,
     "metadata": {},
     "output_type": "execute_result"
    }
   ],
   "source": [
    "even"
   ]
  },
  {
   "cell_type": "code",
   "execution_count": 66,
   "id": "dacbc6e7",
   "metadata": {},
   "outputs": [],
   "source": [
    "lists = [[1, 2, 3], [4, 5, 6], [7, 8, 9]]\n",
    "f=[item for sublist in lists for item in sublist]"
   ]
  },
  {
   "cell_type": "code",
   "execution_count": 67,
   "id": "ee1b757b",
   "metadata": {},
   "outputs": [
    {
     "data": {
      "text/plain": [
       "[1, 2, 3, 4, 5, 6, 7, 8, 9]"
      ]
     },
     "execution_count": 67,
     "metadata": {},
     "output_type": "execute_result"
    }
   ],
   "source": [
    "f"
   ]
  },
  {
   "cell_type": "code",
   "execution_count": 81,
   "id": "e8660793",
   "metadata": {},
   "outputs": [
    {
     "data": {
      "text/plain": [
       "['a', 'b', 'c', 'd']"
      ]
     },
     "execution_count": 81,
     "metadata": {},
     "output_type": "execute_result"
    }
   ],
   "source": [
    "words = ['apple', 'banana', 'cherry', 'date']\n",
    "s=[word[0] for word in words]\n",
    "s"
   ]
  },
  {
   "cell_type": "code",
   "execution_count": 80,
   "id": "2613b7da",
   "metadata": {},
   "outputs": [
    {
     "data": {
      "text/plain": [
       "[1, 2, 3, 4, 5]"
      ]
     },
     "execution_count": 80,
     "metadata": {},
     "output_type": "execute_result"
    }
   ],
   "source": [
    "strings = ['1', '2', '3', '4', '5']\n",
    "s=[int(i) for i in strings]\n",
    "s"
   ]
  },
  {
   "cell_type": "code",
   "execution_count": 79,
   "id": "8ff3a65c",
   "metadata": {},
   "outputs": [
    {
     "data": {
      "text/plain": [
       "[1, 2, 3, 4, 6, 9, 12, 18, 36]"
      ]
     },
     "execution_count": 79,
     "metadata": {},
     "output_type": "execute_result"
    }
   ],
   "source": [
    "n=36\n",
    "l=[x for x in range(1,n+1) if n%x==0]\n",
    "l"
   ]
  },
  {
   "cell_type": "code",
   "execution_count": 78,
   "id": "4f0f751e",
   "metadata": {},
   "outputs": [
    {
     "data": {
      "text/plain": [
       "['APPLE', 'BANANA', 'CHERRY', 'DATE']"
      ]
     },
     "execution_count": 78,
     "metadata": {},
     "output_type": "execute_result"
    }
   ],
   "source": [
    "s=[word.upper() for word in words]\n",
    "s"
   ]
  },
  {
   "cell_type": "code",
   "execution_count": 83,
   "id": "9dcf83d9",
   "metadata": {},
   "outputs": [
    {
     "data": {
      "text/plain": [
       "[2, 3, 1, 2]"
      ]
     },
     "execution_count": 83,
     "metadata": {},
     "output_type": "execute_result"
    }
   ],
   "source": [
    "v=[sum(1 for char in word if char.lower() in 'aeiou') for word in words]\n",
    "v"
   ]
  },
  {
   "cell_type": "code",
   "execution_count": 85,
   "id": "422cec49",
   "metadata": {},
   "outputs": [
    {
     "data": {
      "text/plain": [
       "[2, 3, 5, 7, 11, 13, 17, 19, 23, 29, 31, 37, 41, 43, 47]"
      ]
     },
     "execution_count": 85,
     "metadata": {},
     "output_type": "execute_result"
    }
   ],
   "source": [
    "p=lambda x:x>1 and all(x%i!=0 for i in range(2,int(x**0.5)+1))\n",
    "prime=[num for num in range(2,50) if p(num)]\n",
    "prime"
   ]
  },
  {
   "cell_type": "code",
   "execution_count": 86,
   "id": "a9a9461d",
   "metadata": {},
   "outputs": [],
   "source": [
    "#f strings"
   ]
  },
  {
   "cell_type": "code",
   "execution_count": 88,
   "id": "7317b1b8",
   "metadata": {},
   "outputs": [
    {
     "data": {
      "text/plain": [
       "'hello amitha'"
      ]
     },
     "execution_count": 88,
     "metadata": {},
     "output_type": "execute_result"
    }
   ],
   "source": [
    "name=\"amitha\"\n",
    "s=\"hello {}\".format(name)\n",
    "s"
   ]
  },
  {
   "cell_type": "code",
   "execution_count": 89,
   "id": "7c78e805",
   "metadata": {},
   "outputs": [
    {
     "data": {
      "text/plain": [
       "'my name is amitha.my age is20.'"
      ]
     },
     "execution_count": 89,
     "metadata": {},
     "output_type": "execute_result"
    }
   ],
   "source": [
    "age=20\n",
    "s=\"my name is {}.my age is{}.\".format(name,age)\n",
    "s"
   ]
  },
  {
   "cell_type": "code",
   "execution_count": 93,
   "id": "61067dd7",
   "metadata": {},
   "outputs": [
    {
     "data": {
      "text/plain": [
       "'price is 19.12'"
      ]
     },
     "execution_count": 93,
     "metadata": {},
     "output_type": "execute_result"
    }
   ],
   "source": [
    "price=19.1234567\n",
    "s=f\"price is {price:.2f}\"\n",
    "s"
   ]
  },
  {
   "cell_type": "code",
   "execution_count": 94,
   "id": "b87cf4d4",
   "metadata": {},
   "outputs": [
    {
     "data": {
      "text/plain": [
       "'name is Alice and age is 25'"
      ]
     },
     "execution_count": 94,
     "metadata": {},
     "output_type": "execute_result"
    }
   ],
   "source": [
    "p = {\"name\": \"Alice\", \"age\": 25}\n",
    "s=\"name is {} and age is {}\".format(p['name'],p['age'])\n",
    "s"
   ]
  },
  {
   "cell_type": "code",
   "execution_count": 96,
   "id": "1b70af5e",
   "metadata": {},
   "outputs": [
    {
     "data": {
      "text/plain": [
       "'name is Alice and  age is 25'"
      ]
     },
     "execution_count": 96,
     "metadata": {},
     "output_type": "execute_result"
    }
   ],
   "source": [
    "s=f\"name is {p['name']} and  age is {p['age']}\"\n",
    "s"
   ]
  },
  {
   "cell_type": "code",
   "execution_count": 98,
   "id": "db59f6dc",
   "metadata": {},
   "outputs": [
    {
     "data": {
      "text/plain": [
       "'01/02/2023'"
      ]
     },
     "execution_count": 98,
     "metadata": {},
     "output_type": "execute_result"
    }
   ],
   "source": [
    "day = 1\n",
    "month = 2\n",
    "year = 2023\n",
    "d=f\"{day:02d}/{month:02d}/{year}\"\n",
    "d"
   ]
  },
  {
   "cell_type": "code",
   "execution_count": 1,
   "id": "78f2022f",
   "metadata": {},
   "outputs": [],
   "source": [
    "#zip function"
   ]
  },
  {
   "cell_type": "code",
   "execution_count": 9,
   "id": "40bc7ee4",
   "metadata": {},
   "outputs": [],
   "source": [
    "lst1=[\"Krish\",\"Sam\",\"John\"]\n",
    "lst2=[\"a\",'b','c']\n",
    "l=zip(lst1,lst2)"
   ]
  },
  {
   "cell_type": "code",
   "execution_count": 10,
   "id": "84753b32",
   "metadata": {},
   "outputs": [
    {
     "data": {
      "text/plain": [
       "[('Krish', 'a'), ('Sam', 'b'), ('John', 'c')]"
      ]
     },
     "execution_count": 10,
     "metadata": {},
     "output_type": "execute_result"
    }
   ],
   "source": [
    "list(l)"
   ]
  },
  {
   "cell_type": "code",
   "execution_count": 12,
   "id": "1a39f45e",
   "metadata": {},
   "outputs": [
    {
     "data": {
      "text/plain": [
       "[7, 9, 11, 13, 15]"
      ]
     },
     "execution_count": 12,
     "metadata": {},
     "output_type": "execute_result"
    }
   ],
   "source": [
    "n1=[1,2,3,4,5]\n",
    "n2=[6,7,8,9,10]\n",
    "l=[x+y for x,y in zip(n1,n2)]\n",
    "l"
   ]
  },
  {
   "cell_type": "code",
   "execution_count": 13,
   "id": "5d84c46e",
   "metadata": {},
   "outputs": [
    {
     "data": {
      "text/plain": [
       "[(1, 4, 7), (2, 5, 8), (3, 6, 9)]"
      ]
     },
     "execution_count": 13,
     "metadata": {},
     "output_type": "execute_result"
    }
   ],
   "source": [
    "matrix = [\n",
    "    [1, 2, 3],\n",
    "    [4, 5, 6],\n",
    "    [7, 8, 9]\n",
    "]\n",
    "t=list(zip(*matrix))\n",
    "t"
   ]
  },
  {
   "cell_type": "code",
   "execution_count": 14,
   "id": "66d81daf",
   "metadata": {},
   "outputs": [
    {
     "data": {
      "text/plain": [
       "{'name': 'Alice', 'age': 30, 'city': 'New York'}"
      ]
     },
     "execution_count": 14,
     "metadata": {},
     "output_type": "execute_result"
    }
   ],
   "source": [
    "keys = [\"name\", \"age\", \"city\"]\n",
    "values = [\"Alice\", 30, \"New York\"]\n",
    "d=dict(zip(keys, values))\n",
    "d"
   ]
  },
  {
   "cell_type": "code",
   "execution_count": 23,
   "id": "1569ba46",
   "metadata": {},
   "outputs": [],
   "source": [
    "dict1={'name':'Amitha','lst_name':'Myana','age':20}\n",
    "dict2={'name':'Samhitha','lst_name':'Paida','age':20}\n",
    "d=zip(dict1.values(),dict2.values())"
   ]
  },
  {
   "cell_type": "code",
   "execution_count": 18,
   "id": "e275183e",
   "metadata": {},
   "outputs": [
    {
     "data": {
      "text/plain": [
       "[('Amitha', 'Samhitha'), ('Myana', 'Paida'), (20, 20)]"
      ]
     },
     "execution_count": 18,
     "metadata": {},
     "output_type": "execute_result"
    }
   ],
   "source": [
    "list(d)"
   ]
  },
  {
   "cell_type": "code",
   "execution_count": null,
   "id": "0c000733",
   "metadata": {},
   "outputs": [],
   "source": []
  },
  {
   "cell_type": "code",
   "execution_count": null,
   "id": "79f575ce",
   "metadata": {},
   "outputs": [],
   "source": []
  }
 ],
 "metadata": {
  "kernelspec": {
   "display_name": "Python 3 (ipykernel)",
   "language": "python",
   "name": "python3"
  },
  "language_info": {
   "codemirror_mode": {
    "name": "ipython",
    "version": 3
   },
   "file_extension": ".py",
   "mimetype": "text/x-python",
   "name": "python",
   "nbconvert_exporter": "python",
   "pygments_lexer": "ipython3",
   "version": "3.11.3"
  }
 },
 "nbformat": 4,
 "nbformat_minor": 5
}
